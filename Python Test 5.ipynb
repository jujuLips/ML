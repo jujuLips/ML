{
 "cells": [
  {
   "cell_type": "code",
   "execution_count": null,
   "metadata": {},
   "outputs": [],
   "source": [
    "\n",
    "\n",
    "#######################\n",
    "##\n",
    "##  Create the data\n",
    "##\n",
    "######################\n",
    "\n",
    "\n",
    "\n",
    "## numpy is used for creating fake data              ##  Not plotting and Im not sure why ??\n",
    "import numpy as np     \n",
    "import pandas as pd \n",
    "#import matplotlib.pyplot as plt\n",
    "#import numpy as np \n",
    "#import matplotlib as mpl \n",
    "\n",
    "\n",
    "import matplotlib.pyplot as plt\n",
    "\n",
    "#%matplotlib inline\n",
    "plt.plot([1, 2, 3, 4])\n",
    "plt.ylabel('some numbers')\n",
    "\n",
    "#%matplotlib inline\n",
    "#%matplotlib inline\n",
    "\n",
    "plt.show()\n",
    "\n",
    "\n"
   ]
  },
  {
   "cell_type": "code",
   "execution_count": null,
   "metadata": {},
   "outputs": [],
   "source": [
    "##  OR to load from your Datasets_Folder   <<-------\n",
    "\n",
    "#  to undo , Enter then cntrl Z   <<---------------------- to UNDO\n",
    "\n",
    "import os   ##  this one works to check your directory and show all data sets within that folder\n",
    "\n",
    "with os.scandir('Datasets_Folder/') as entries:\n",
    "    for entry in entries:\n",
    "        print(entry.name)\n"
   ]
  },
  {
   "cell_type": "code",
   "execution_count": null,
   "metadata": {},
   "outputs": [],
   "source": [
    "##------------------\n",
    "##\n",
    "##      START\n",
    "##\n",
    "##------------------\n",
    "\n",
    "# this seems to work   <<-------------\n",
    "\n",
    "import numpy as np     \n",
    "import pandas as pd \n",
    "import matplotlib.pyplot as plt\n",
    "\n",
    "## 1st upload data into Juypter Notebook, 2nd copy this 'global_warming.csv' into pd read as below\n",
    "\n",
    "#Datasets_Folder()\n",
    "\n",
    "#data = pd.read_csv(\"global_warming.csv\")\n",
    "data = pd.read_csv(\"Datasets_Folder/global_warming.csv\")\n",
    "print (data.head(7)) \n",
    "\n",
    "##------------------\n",
    "##\n",
    "##      END\n",
    "##\n",
    "##------------------\n"
   ]
  },
  {
   "cell_type": "code",
   "execution_count": null,
   "metadata": {},
   "outputs": [],
   "source": [
    "\n",
    "## To know the data types\n",
    "data.dtypes.value_counts()\n"
   ]
  },
  {
   "cell_type": "code",
   "execution_count": null,
   "metadata": {},
   "outputs": [],
   "source": [
    "data.describe()"
   ]
  },
  {
   "cell_type": "code",
   "execution_count": null,
   "metadata": {},
   "outputs": [],
   "source": []
  },
  {
   "cell_type": "code",
   "execution_count": null,
   "metadata": {},
   "outputs": [],
   "source": [
    "##  Prints out the first 7 rows etc    ##  This all works <<------------\n",
    "#data[:7].isnull() \n",
    "\n",
    "##  Prints out row 5 to row 14  \n",
    "#data[5:15].isnull()\n",
    "\n",
    "## Prints out row 5 and 15 from the ' Annual ' column \n",
    "data.loc[[5,15],['Annual']]\n",
    "\n",
    "    \n",
    "## Prints out row 5 and 15 and the 'Annual', 'Year', '5_year_mean' column's \n",
    "#data.loc[[ 5,15], ['Annual', 'Year', '5_year_mean']]"
   ]
  },
  {
   "cell_type": "code",
   "execution_count": null,
   "metadata": {},
   "outputs": [],
   "source": [
    "data.head( n=7 )                     \n",
    "\n",
    "#data.isnull()"
   ]
  },
  {
   "cell_type": "code",
   "execution_count": null,
   "metadata": {},
   "outputs": [],
   "source": []
  },
  {
   "cell_type": "code",
   "execution_count": null,
   "metadata": {},
   "outputs": [],
   "source": []
  },
  {
   "cell_type": "code",
   "execution_count": null,
   "metadata": {},
   "outputs": [],
   "source": []
  },
  {
   "cell_type": "code",
   "execution_count": null,
   "metadata": {},
   "outputs": [],
   "source": []
  }
 ],
 "metadata": {
  "kernelspec": {
   "display_name": "Python 3",
   "language": "python",
   "name": "python3"
  },
  "language_info": {
   "codemirror_mode": {
    "name": "ipython",
    "version": 3
   },
   "file_extension": ".py",
   "mimetype": "text/x-python",
   "name": "python",
   "nbconvert_exporter": "python",
   "pygments_lexer": "ipython3",
   "version": "3.7.1"
  }
 },
 "nbformat": 4,
 "nbformat_minor": 2
}
