{
 "cells": [
  {
   "cell_type": "code",
   "execution_count": null,
   "metadata": {},
   "outputs": [],
   "source": [
    "# This program prints Hello, world!\n",
    "print('Hello, world!')"
   ]
  },
  {
   "cell_type": "code",
   "execution_count": null,
   "metadata": {},
   "outputs": [],
   "source": [
    "# Program to generate a random number between 0 and 9\n",
    "# importing the random module\n",
    "import random\n",
    "print(random.randint(0,9))"
   ]
  },
  {
   "cell_type": "code",
   "execution_count": null,
   "metadata": {},
   "outputs": [],
   "source": [
    "# Python program to find the factorial of a number provided by the user.\n",
    "# change the value for a different result\n",
    "num = 12   ## <<-------------------------------------put number in here\n",
    "# To take input from the user\n",
    "#num = int(input(\"Enter a number: \"))\n",
    "factorial = 1\n",
    "# check if the number is negative, positive or zero\n",
    "if num < 0:\n",
    "   print(\"Sorry, factorial does not exist for negative numbers\")\n",
    "elif num == 0:\n",
    "   print(\"The factorial of 0 is 1\")\n",
    "else:\n",
    "   for i in range(1,num + 1):\n",
    "       factorial = factorial*i\n",
    "   print(\"The factorial of\",num,\"is\",factorial)"
   ]
  },
  {
   "cell_type": "code",
   "execution_count": null,
   "metadata": {},
   "outputs": [],
   "source": [
    "# Python program to check if the number is an Armstrong number or not\n",
    "# take input from the user\n",
    "num = int(input(\"Enter a number: \"))\n",
    "# initialize sum\n",
    "sum = 0\n",
    "# find the sum of the cube of each digit\n",
    "temp = num\n",
    "while temp > 0:\n",
    "   digit = temp % 10\n",
    "   sum += digit ** 3\n",
    "   temp //= 10\n",
    "# display the result\n",
    "if num == sum:\n",
    "   print(num,\"is an Armstrong number\")\n",
    "else:\n",
    "   print(num,\"is not an Armstrong number\")  # 0, 1, 153, 370, 371 and 407"
   ]
  },
  {
   "cell_type": "code",
   "execution_count": null,
   "metadata": {},
   "outputs": [],
   "source": [
    "# Python program to demonstrate \n",
    "# KNN classification algorithm \n",
    "# on IRIS dataset \n",
    "  \n",
    "from sklearn.datasets import load_iris \n",
    "from sklearn.neighbors import KNeighborsClassifier \n",
    "import numpy as np \n",
    "from sklearn.model_selection import train_test_split \n",
    "  \n",
    "iris_dataset=load_iris() \n",
    "  \n",
    "X_train, X_test, y_train, y_test = train_test_split(iris_dataset[\"data\"], iris_dataset[\"target\"], random_state=0) \n",
    "  \n",
    "kn = KNeighborsClassifier(n_neighbors=1) \n",
    "kn.fit(X_train, y_train) \n",
    "  \n",
    "x_new = np.array([[5, 2.9, 1, 0.2]]) \n",
    "prediction = kn.predict(x_new) \n",
    "  \n",
    "print(\"Predicted target value: {}\\n\".format(prediction)) \n",
    "print(\"Predicted feature name: {}\\n\".format\n",
    "    (iris_dataset[\"target_names\"][prediction])) \n",
    "print(\"Test score: {:.2f}\".format(kn.score(X_test, y_test)))\n",
    "\n"
   ]
  },
  {
   "cell_type": "code",
   "execution_count": null,
   "metadata": {},
   "outputs": [],
   "source": [
    "# Python program using NumPy  \n",
    "# for some basic mathematical  \n",
    "# operations \n",
    "  \n",
    "import numpy as np \n",
    "  \n",
    "# Creating two arrays of rank 2 \n",
    "x = np.array([[1, 2], [3, 4]]) \n",
    "y = np.array([[5, 6], [7, 8]]) \n",
    "  \n",
    "# Creating two arrays of rank 1 \n",
    "v = np.array([9, 10]) \n",
    "w = np.array([11, 12]) \n",
    "  \n",
    "# Inner product of vectors \n",
    "print(np.dot(v, w), \"\\n\") \n",
    "  \n",
    "# Matrix and Vector product \n",
    "print(np.dot(x, v), \"\\n\") \n",
    "  \n",
    "# Matrix and matrix product \n",
    "print(np.dot(x, y)) "
   ]
  },
  {
   "cell_type": "code",
   "execution_count": null,
   "metadata": {},
   "outputs": [],
   "source": [
    "\n",
    "\n",
    "# this seems to work   <<-------------\n",
    "\n",
    "import numpy as np     \n",
    "import pandas as pd \n",
    "import matplotlib.pyplot as plt\n",
    "\n",
    "## 1st upload data into Juypter Notebook, 2nd copy this 'global_warming.csv' into pd read as below\n",
    "\n",
    "#Datasets_Folder()\n",
    "\n",
    "#data = pd.read_csv(\"global_warming.csv\")\n",
    "data = pd.read_csv(\"Datasets_Folder/global_warming.csv\")\n",
    "print (data.head(10)) "
   ]
  },
  {
   "cell_type": "code",
   "execution_count": null,
   "metadata": {},
   "outputs": [],
   "source": [
    "data.describe()"
   ]
  },
  {
   "cell_type": "code",
   "execution_count": null,
   "metadata": {},
   "outputs": [],
   "source": [
    "data.info() "
   ]
  },
  {
   "cell_type": "code",
   "execution_count": null,
   "metadata": {},
   "outputs": [],
   "source": [
    "plt.figure(figsize = (6, 12)) \n",
    "x = data[\"Year\"] \n",
    "  \n",
    "plt.hist(x, bins = 20, color = \"green\") \n",
    "plt.title(\"Sepal Length in cm\") \n",
    "plt.xlabel(\"Sepal_Length_cm\") \n",
    "plt.ylabel(\"Count\") "
   ]
  },
  {
   "cell_type": "code",
   "execution_count": null,
   "metadata": {},
   "outputs": [],
   "source": []
  },
  {
   "cell_type": "code",
   "execution_count": null,
   "metadata": {},
   "outputs": [],
   "source": []
  },
  {
   "cell_type": "code",
   "execution_count": null,
   "metadata": {},
   "outputs": [],
   "source": [
    "\n",
    "# to access from the C drive NOT TESTED\n",
    "\n",
    "#df = pd.read_csv(\"Datasets_Folder/global_warming.csv\")\n",
    "\n",
    "#df = pd.read_csv(\"\\C:\\Users\\dan\\Desktop\\RMIT 2019 sem 2\\forecasting\\wk 2\")  #  not working  <<-- working on this one\n"
   ]
  },
  {
   "cell_type": "code",
   "execution_count": 1,
   "metadata": {},
   "outputs": [
    {
     "name": "stdout",
     "output_type": "stream",
     "text": [
      "global_warming.csv\n",
      "iris.csv\n"
     ]
    }
   ],
   "source": [
    "\n",
    "#  to undo , Enter then cntrl Z   <<---------------------- to UNDO\n",
    "\n",
    "import os   ##  this one works to check your directory and show all data sets within that folder\n",
    "\n",
    "with os.scandir('Datasets_Folder/') as entries:\n",
    "    for entry in entries:\n",
    "        print(entry.name)"
   ]
  },
  {
   "cell_type": "code",
   "execution_count": null,
   "metadata": {},
   "outputs": [],
   "source": [
    "data = pd.read_csv(\"Datasets_Folder/global_warming.csv\")  ## then use this one for head\n",
    "print (data.head(10)) "
   ]
  },
  {
   "cell_type": "code",
   "execution_count": null,
   "metadata": {},
   "outputs": [],
   "source": [
    "from pathlib import Path    ##  this one also works to check your directory\n",
    "\n",
    "entries = Path('Datasets_Folder/')\n",
    "for entry in entries.iterdir():\n",
    "    print(entry.name)"
   ]
  },
  {
   "cell_type": "code",
   "execution_count": null,
   "metadata": {},
   "outputs": [],
   "source": [
    "## numpy is used for creating fake data\n",
    "import numpy as np \n",
    "import matplotlib as mpl \n",
    "\n",
    "## agg backend is used to create plot as a .png file\n",
    "mpl.use('agg')\n",
    "\n",
    "import matplotlib.pyplot as plt \n",
    "\n",
    "#######################\n",
    "##\n",
    "##  Create the data\n",
    "##\n",
    "######################\n",
    "\n",
    "\n",
    "## Create data\n",
    "np.random.seed(10)\n",
    "collectn_1 = np.random.normal(100, 10, 200)\n",
    "collectn_2 = np.random.normal(80, 30, 200)\n",
    "collectn_3 = np.random.normal(90, 20, 200)\n",
    "collectn_4 = np.random.normal(70, 25, 200)\n",
    "\n",
    "## combine these different collections into a list    \n",
    "data_to_plot = [collectn_1, collectn_2, collectn_3, collectn_4]\n",
    "\n",
    "#######################\n",
    "##\n",
    "##  Create the boxplot\n",
    "##\n",
    "######################\n",
    "\n",
    "##   %matplotlib --list    ##  <<---------   this shows the list of options, below is the option you need\n",
    "%matplotlib  inline   \n",
    "\n",
    "# Create a figure instance\n",
    "fig = plt.figure(1, figsize=(9, 6))\n",
    "\n",
    "# Create an axes instance\n",
    "ax = fig.add_subplot(111)\n",
    "\n",
    "# Create the boxplot  add patch artist = true to get colour\n",
    "bp = ax.boxplot(data_to_plot, patch_artist=True)\n",
    "\n",
    "# Save the figure\n",
    "fig.savefig('fig1.png', bbox_inches='tight')\n"
   ]
  },
  {
   "cell_type": "code",
   "execution_count": null,
   "metadata": {},
   "outputs": [],
   "source": [
    "\n",
    "%matplotlib  inline\n",
    "\n",
    "## add patch_artist=True option to ax.boxplot() \n",
    "## to get fill color\n",
    "bp = ax.boxplot(data_to_plot, patch_artist=True)  \n",
    "\n",
    "## change outline color, fill color and linewidth of the boxes\n",
    "for box in bp['boxes']:\n",
    "    # change outline color\n",
    "    box.set( color='#7570b3', linewidth=2)\n",
    "    # change fill color\n",
    "    box.set( facecolor = '#1b9e77' )\n",
    "\n",
    "## change color and linewidth of the whiskers\n",
    "for whisker in bp['whiskers']:\n",
    "    whisker.set(color='#7570b3', linewidth=2)\n",
    "\n",
    "## change color and linewidth of the caps\n",
    "for cap in bp['caps']:\n",
    "    cap.set(color='#7570b3', linewidth=2)\n",
    "\n",
    "## change color and linewidth of the medians\n",
    "for median in bp['medians']:\n",
    "    median.set(color='#b2df8a', linewidth=2)\n",
    "\n",
    "## change the style of fliers and their fill\n",
    "for flier in bp['fliers']:\n",
    "    flier.set(marker='o', color='#e7298a', alpha=0.5)\n",
    "\n",
    "\n",
    "# Save the figure\n",
    "fig.savefig('fig2.png', bbox_inches='tight')  "
   ]
  },
  {
   "cell_type": "code",
   "execution_count": null,
   "metadata": {},
   "outputs": [],
   "source": []
  },
  {
   "cell_type": "code",
   "execution_count": null,
   "metadata": {},
   "outputs": [],
   "source": [
    "#  to undo , Enter then cntrl Z   <<---------------------- to UNDO\n",
    "\n",
    "import os   ##  this one works to check your directory and show all data sets within that folder\n",
    "\n",
    "with os.scandir('Datasets_Folder/') as entries:\n",
    "    for entry in entries:\n",
    "        print(entry.name)"
   ]
  },
  {
   "cell_type": "code",
   "execution_count": null,
   "metadata": {},
   "outputs": [],
   "source": [
    "\n",
    "## numpy is used for creating fake data\n",
    "import numpy as np     \n",
    "import pandas as pd \n",
    "import matplotlib.pyplot as plt\n",
    "#import numpy as np \n",
    "#import matplotlib as mpl \n",
    "\n",
    "## agg backend is used to create plot as a .png file\n",
    "mpl.use('agg')\n",
    "\n",
    "#import matplotlib.pyplot as plt \n",
    "\n",
    "data = pd.read_csv(\"Datasets_Folder/iris.csv\")  ## then use this one for head\n",
    "print (data.head(10)) "
   ]
  },
  {
   "cell_type": "code",
   "execution_count": null,
   "metadata": {},
   "outputs": [],
   "source": [
    "#1: Histogram for Sepal Length\n",
    "\n",
    "import matplotlib.pyplot as plt\n",
    "\n",
    "## This line below needs to go before you call the plot\n",
    "%matplotlib inline\n",
    "\n",
    "plt.figure(figsize = (10, 7)) \n",
    "x = data[\"sepal_length\"] \n",
    "  \n",
    "plt.hist(x, bins = 20, color = \"green\") \n",
    "plt.title(\"Sepal Length in cm\") \n",
    "plt.xlabel(\"Sepal_Length_cm\") \n",
    "plt.ylabel(\"Count\")\n",
    "\n",
    "\n",
    "\n",
    "# do plotting\n",
    "plt.show();"
   ]
  },
  {
   "cell_type": "code",
   "execution_count": null,
   "metadata": {},
   "outputs": [],
   "source": [
    "\n",
    "## show list of options\n",
    "%matplotlib --list   "
   ]
  },
  {
   "cell_type": "code",
   "execution_count": null,
   "metadata": {},
   "outputs": [],
   "source": [
    "\n",
    "## select option\n",
    "%matplotlib  inline    "
   ]
  },
  {
   "cell_type": "code",
   "execution_count": null,
   "metadata": {},
   "outputs": [],
   "source": [
    "# removing Id column \n",
    "new_data = data[[\"SepalLengthCm\", \"SepalWidthCm\", \"PetalLengthCm\", \"PetalWidthCm\"]] \n",
    "print(new_data.head())"
   ]
  },
  {
   "cell_type": "code",
   "execution_count": null,
   "metadata": {},
   "outputs": [],
   "source": [
    "plt.figure(figsize = (10, 7)) \n",
    "new_data.boxplot()"
   ]
  },
  {
   "cell_type": "code",
   "execution_count": null,
   "metadata": {},
   "outputs": [],
   "source": []
  }
 ],
 "metadata": {
  "kernelspec": {
   "display_name": "Python 3",
   "language": "python",
   "name": "python3"
  },
  "language_info": {
   "codemirror_mode": {
    "name": "ipython",
    "version": 3
   },
   "file_extension": ".py",
   "mimetype": "text/x-python",
   "name": "python",
   "nbconvert_exporter": "python",
   "pygments_lexer": "ipython3",
   "version": "3.7.1"
  }
 },
 "nbformat": 4,
 "nbformat_minor": 2
}
