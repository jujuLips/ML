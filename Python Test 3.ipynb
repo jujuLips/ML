{
 "cells": [
  {
   "cell_type": "code",
   "execution_count": null,
   "metadata": {},
   "outputs": [],
   "source": [
    "\n",
    "\n",
    "#######################\n",
    "##\n",
    "##  Create the data\n",
    "##\n",
    "######################\n",
    "\n",
    "\n",
    "\n",
    "## numpy is used for creating fake data\n",
    "import numpy as np     \n",
    "import pandas as pd \n",
    "#import matplotlib.pyplot as plt\n",
    "#import numpy as np \n",
    "#import matplotlib as mpl \n",
    "\n",
    "\n",
    "import matplotlib.pyplot as plt\n",
    "\n",
    "#%matplotlib inline\n",
    "plt.plot([1, 2, 3, 4])\n",
    "plt.ylabel('some numbers')\n",
    "\n",
    "#%matplotlib inline\n",
    "%matplotlib inline\n",
    "\n",
    "plt.show()\n",
    "\n",
    "\n"
   ]
  },
  {
   "cell_type": "code",
   "execution_count": null,
   "metadata": {},
   "outputs": [],
   "source": [
    "\n",
    "#  to undo , Enter then cntrl Z   <<---------------------- to UNDO\n",
    "\n",
    "import os   ##  this one works to check your directory and show all data sets within that folder\n",
    "\n",
    "with os.scandir('Datasets_Folder/') as entries:\n",
    "    for entry in entries:\n",
    "        print(entry.name)\n"
   ]
  },
  {
   "cell_type": "code",
   "execution_count": null,
   "metadata": {},
   "outputs": [],
   "source": [
    "##------------------\n",
    "##\n",
    "##      START\n",
    "##\n",
    "##------------------\n",
    "\n",
    "# this seems to work   <<-------------\n",
    "\n",
    "import numpy as np     \n",
    "import pandas as pd \n",
    "import matplotlib.pyplot as plt\n",
    "\n",
    "## 1st upload data into Juypter Notebook, 2nd copy this 'global_warming.csv' into pd read as below\n",
    "\n",
    "#Datasets_Folder()\n",
    "\n",
    "#data = pd.read_csv(\"global_warming.csv\")\n",
    "data = pd.read_csv(\"Datasets_Folder/global_warming.csv\")\n",
    "print (data.head(10)) \n",
    "\n",
    "##------------------\n",
    "##\n",
    "##      END\n",
    "##\n",
    "##------------------\n"
   ]
  },
  {
   "cell_type": "code",
   "execution_count": 21,
   "metadata": {},
   "outputs": [
    {
     "data": {
      "text/html": [
       "<div>\n",
       "<style scoped>\n",
       "    .dataframe tbody tr th:only-of-type {\n",
       "        vertical-align: middle;\n",
       "    }\n",
       "\n",
       "    .dataframe tbody tr th {\n",
       "        vertical-align: top;\n",
       "    }\n",
       "\n",
       "    .dataframe thead th {\n",
       "        text-align: right;\n",
       "    }\n",
       "</style>\n",
       "<table border=\"1\" class=\"dataframe\">\n",
       "  <thead>\n",
       "    <tr style=\"text-align: right;\">\n",
       "      <th></th>\n",
       "      <th>Year</th>\n",
       "      <th>Annual</th>\n",
       "      <th>5_year_mean</th>\n",
       "    </tr>\n",
       "  </thead>\n",
       "  <tbody>\n",
       "    <tr>\n",
       "      <th>count</th>\n",
       "      <td>137.000000</td>\n",
       "      <td>137.000000</td>\n",
       "      <td>137.000000</td>\n",
       "    </tr>\n",
       "    <tr>\n",
       "      <th>mean</th>\n",
       "      <td>1948.000000</td>\n",
       "      <td>0.024380</td>\n",
       "      <td>0.024453</td>\n",
       "    </tr>\n",
       "    <tr>\n",
       "      <th>std</th>\n",
       "      <td>39.692569</td>\n",
       "      <td>0.326991</td>\n",
       "      <td>0.316130</td>\n",
       "    </tr>\n",
       "    <tr>\n",
       "      <th>min</th>\n",
       "      <td>1880.000000</td>\n",
       "      <td>-0.470000</td>\n",
       "      <td>-0.410000</td>\n",
       "    </tr>\n",
       "    <tr>\n",
       "      <th>25%</th>\n",
       "      <td>1914.000000</td>\n",
       "      <td>-0.210000</td>\n",
       "      <td>-0.230000</td>\n",
       "    </tr>\n",
       "    <tr>\n",
       "      <th>50%</th>\n",
       "      <td>1948.000000</td>\n",
       "      <td>-0.070000</td>\n",
       "      <td>-0.040000</td>\n",
       "    </tr>\n",
       "    <tr>\n",
       "      <th>75%</th>\n",
       "      <td>1982.000000</td>\n",
       "      <td>0.190000</td>\n",
       "      <td>0.210000</td>\n",
       "    </tr>\n",
       "    <tr>\n",
       "      <th>max</th>\n",
       "      <td>2016.000000</td>\n",
       "      <td>0.990000</td>\n",
       "      <td>0.910000</td>\n",
       "    </tr>\n",
       "  </tbody>\n",
       "</table>\n",
       "</div>"
      ],
      "text/plain": [
       "              Year      Annual  5_year_mean\n",
       "count   137.000000  137.000000   137.000000\n",
       "mean   1948.000000    0.024380     0.024453\n",
       "std      39.692569    0.326991     0.316130\n",
       "min    1880.000000   -0.470000    -0.410000\n",
       "25%    1914.000000   -0.210000    -0.230000\n",
       "50%    1948.000000   -0.070000    -0.040000\n",
       "75%    1982.000000    0.190000     0.210000\n",
       "max    2016.000000    0.990000     0.910000"
      ]
     },
     "execution_count": 21,
     "metadata": {},
     "output_type": "execute_result"
    }
   ],
   "source": [
    "data.describe()"
   ]
  },
  {
   "cell_type": "code",
   "execution_count": 16,
   "metadata": {},
   "outputs": [
    {
     "data": {
      "text/plain": [
       "(array([], dtype=int64), array([], dtype=int64))"
      ]
     },
     "execution_count": 16,
     "metadata": {},
     "output_type": "execute_result"
    }
   ],
   "source": [
    "\n",
    "##  returns the row and column indices where the value is NaN:\n",
    "np.where(pd.isnull(data))"
   ]
  },
  {
   "cell_type": "code",
   "execution_count": 17,
   "metadata": {},
   "outputs": [
    {
     "data": {
      "text/plain": [
       "(array([], dtype=int64), array([], dtype=int64))"
      ]
     },
     "execution_count": 17,
     "metadata": {},
     "output_type": "execute_result"
    }
   ],
   "source": [
    "\n",
    "##  Finding values which are empty strings could be done with applymap: \n",
    "np.where(data.applymap(lambda x: x == ''))"
   ]
  },
  {
   "cell_type": "code",
   "execution_count": null,
   "metadata": {},
   "outputs": [],
   "source": []
  },
  {
   "cell_type": "code",
   "execution_count": null,
   "metadata": {},
   "outputs": [],
   "source": []
  }
 ],
 "metadata": {
  "kernelspec": {
   "display_name": "Python 3",
   "language": "python",
   "name": "python3"
  },
  "language_info": {
   "codemirror_mode": {
    "name": "ipython",
    "version": 3
   },
   "file_extension": ".py",
   "mimetype": "text/x-python",
   "name": "python",
   "nbconvert_exporter": "python",
   "pygments_lexer": "ipython3",
   "version": "3.7.1"
  }
 },
 "nbformat": 4,
 "nbformat_minor": 2
}
